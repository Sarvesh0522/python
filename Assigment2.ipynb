{
  "nbformat": 4,
  "nbformat_minor": 0,
  "metadata": {
    "colab": {
      "provenance": []
    },
    "kernelspec": {
      "name": "python3",
      "display_name": "Python 3"
    },
    "language_info": {
      "name": "python"
    }
  },
  "cells": [
    {
      "cell_type": "markdown",
      "source": [
        "1.how to access elements in tuple even join tuple and multiple tuples and do indexing and counting."
      ],
      "metadata": {
        "id": "ZtV1McJZvPw4"
      }
    },
    {
      "cell_type": "code",
      "execution_count": 1,
      "metadata": {
        "colab": {
          "base_uri": "https://localhost:8080/"
        },
        "id": "lZ9LHSj2u_vg",
        "outputId": "6857f66a-556c-4a0d-c935-b70104b758b7"
      },
      "outputs": [
        {
          "output_type": "stream",
          "name": "stdout",
          "text": [
            "belgavi\n",
            "hubli\n",
            "belgavi\n",
            "belgavi\n",
            "('belgavi', 'hubli', 'belgavi', 'belgavi', 'hubli', 'belgavi')\n",
            "('belgavi', 'hubli', 'belgavi', 'belgavi', 'hubli', 'belgavi', 'belgavi', 'hubli', 'belgavi', 'belgavi', 'hubli', 'belgavi')\n",
            "0\n",
            "8\n"
          ]
        }
      ],
      "source": [
        "\n",
        "\n",
        "tuple1=(\"belgavi\",\"hubli\",\"belgavi\")\n",
        "print(tuple1[0])\n",
        "print(tuple1[1])\n",
        "print(tuple1[2])\n",
        "print(tuple1[-1])\n",
        "tuple6= tuple1 + tuple1\n",
        "print(tuple6)\n",
        "tuple7= tuple6 * 2\n",
        "print(tuple7)\n",
        "y=tuple7.index('belgavi')\n",
        "print(y)\n",
        "x=tuple7.count('belgavi')\n",
        "print(x)\n",
        "\n",
        "\n",
        "\n"
      ]
    },
    {
      "cell_type": "code",
      "source": [],
      "metadata": {
        "id": "74Ugunp8vWrd"
      },
      "execution_count": null,
      "outputs": []
    },
    {
      "cell_type": "markdown",
      "source": [
        "2.Create a set and show the unordered output.And add another set to it.\n"
      ],
      "metadata": {
        "id": "j23Ur0UYvpFk"
      }
    },
    {
      "cell_type": "code",
      "source": [
        "set1={\"milk\",\"water\",\"sky\",\"ground\"}\n",
        "print(set1)\n",
        "set1.add('earth')\n",
        "print(set1)\n",
        "\n"
      ],
      "metadata": {
        "colab": {
          "base_uri": "https://localhost:8080/"
        },
        "id": "iyEMiP9tvrRS",
        "outputId": "f9e03981-e50b-4950-f148-821276d50139"
      },
      "execution_count": 2,
      "outputs": [
        {
          "output_type": "stream",
          "name": "stdout",
          "text": [
            "{'milk', 'water', 'sky', 'ground'}\n",
            "{'milk', 'earth', 'ground', 'water', 'sky'}\n"
          ]
        }
      ]
    },
    {
      "cell_type": "code",
      "source": [],
      "metadata": {
        "id": "S84hRezJvv0V"
      },
      "execution_count": null,
      "outputs": []
    },
    {
      "cell_type": "markdown",
      "source": [
        "3.Using dictionaries print the name of a city,pincode and area"
      ],
      "metadata": {
        "id": "eKvZ1tvYv1gr"
      }
    },
    {
      "cell_type": "code",
      "source": [
        "Dict1= {\"name of a city\":\"hub;i\",\n",
        "       \"Area\":\"goppanakoppa\",\n",
        "       \"Pincode\":\"580023\"}\n",
        "print(Dict1)\n",
        "\n"
      ],
      "metadata": {
        "colab": {
          "base_uri": "https://localhost:8080/"
        },
        "id": "IzCOMztvv2RB",
        "outputId": "f7e55fca-2077-44cb-835e-6f70069bf07a"
      },
      "execution_count": 4,
      "outputs": [
        {
          "output_type": "stream",
          "name": "stdout",
          "text": [
            "{'name of a city': 'hub;i', 'Area': 'goppanakoppa', 'Pincode': '580023'}\n"
          ]
        }
      ]
    },
    {
      "cell_type": "code",
      "source": [],
      "metadata": {
        "id": "-DxZYnnlv5Wg"
      },
      "execution_count": null,
      "outputs": []
    },
    {
      "cell_type": "markdown",
      "source": [
        "4.Using the elif show the colour of the cloth, when picked randomly.\n"
      ],
      "metadata": {
        "id": "WT7gi1C3wGIj"
      }
    },
    {
      "cell_type": "code",
      "source": [
        "cloth1_colour=\"green\"\n",
        "cloth2_colour=\"blue\"\n",
        "cloth3_colour=\"red\"\n",
        "cloth4_colour=\"white\"\n",
        "\n",
        "pick_cloth=input(\"please pick a cloth\")\n",
        "\n",
        "if pick_cloth == cloth1_colour:\n",
        "  print(\"green cloth is picked\")\n",
        "\n",
        "elif pick_cloth == cloth2_colour:\n",
        "  print(\"blue cloth is picked\")\n",
        "\n",
        "elif pick_cloth == cloth3_colour:\n",
        "  print(\"red cloth is picked\")\n",
        "\n",
        "else:\n",
        "  print(\"white cloth is picked\")\n",
        "\n",
        "\n"
      ],
      "metadata": {
        "colab": {
          "base_uri": "https://localhost:8080/"
        },
        "id": "4HY0wKn8wLaC",
        "outputId": "9d5085aa-571c-4d71-acef-952a9b5ed86c"
      },
      "execution_count": 5,
      "outputs": [
        {
          "output_type": "stream",
          "name": "stdout",
          "text": [
            "please pick a clothred\n",
            "red cloth is picked\n"
          ]
        }
      ]
    },
    {
      "cell_type": "code",
      "source": [],
      "metadata": {
        "id": "KyYNT6h3wQkm"
      },
      "execution_count": null,
      "outputs": []
    },
    {
      "cell_type": "markdown",
      "source": [
        "5.show the elements in list and add 2 lists.\n"
      ],
      "metadata": {
        "id": "qYJ-0znrwYdz"
      }
    },
    {
      "cell_type": "code",
      "source": [
        "lis= ['swa','123','30.45']\n",
        "print(lis)\n",
        "lis2=['apple','200','inaia']\n",
        "print(len(lis))\n",
        "print(len(lis2))\n",
        "lis3= lis+ lis2\n",
        "print(lis3)\n",
        "print(len(lis3))"
      ],
      "metadata": {
        "colab": {
          "base_uri": "https://localhost:8080/"
        },
        "id": "ggi_nBguwchq",
        "outputId": "f9f7173b-8999-4477-b219-87867be4d518"
      },
      "execution_count": 6,
      "outputs": [
        {
          "output_type": "stream",
          "name": "stdout",
          "text": [
            "['swa', '123', '30.45']\n",
            "3\n",
            "3\n",
            "['swa', '123', '30.45', 'apple', '200', 'inaia']\n",
            "6\n"
          ]
        }
      ]
    },
    {
      "cell_type": "code",
      "source": [],
      "metadata": {
        "id": "PRlYy4FKwg0u"
      },
      "execution_count": null,
      "outputs": []
    }
  ]
}